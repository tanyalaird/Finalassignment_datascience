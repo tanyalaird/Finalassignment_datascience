{
    "cells": [
        {
            "metadata": {},
            "cell_type": "markdown",
            "source": "<p style=\"text-align:center\">\n    <a href=\"https://skills.network/?utm_medium=Exinfluencer&utm_source=Exinfluencer&utm_content=000026UJ&utm_term=10006555&utm_id=NA-SkillsNetwork-Channel-SkillsNetworkCoursesIBMDS0321ENSkillsNetwork865-2022-01-01\" target=\"_blank\">\n    <img src=\"https://cf-courses-data.s3.us.cloud-object-storage.appdomain.cloud/assets/logos/SN_web_lightmode.png\" width=\"200\" alt=\"Skills Network Logo\"  />\n    </a>\n</p>\n\n<h1 align=center><font size = 5>Assignment: SQL Notebook for Peer Assignment</font></h1>\n\nEstimated time needed: **60** minutes.\n\n## Introduction\nUsing this Python notebook you will:\n\n1.  Understand the Spacex DataSet\n2.  Load the dataset  into the corresponding table in a Db2 database\n3.  Execute SQL queries to answer assignment questions \n"
        },
        {
            "metadata": {},
            "cell_type": "markdown",
            "source": "## Overview of the DataSet\n\nSpaceX has gained worldwide attention for a series of historic milestones. \n\nIt is the only private company ever to return a spacecraft from low-earth orbit, which it first accomplished in December 2010.\nSpaceX advertises Falcon 9 rocket launches on its website with a cost of 62 million dollars wheras other providers cost upward of 165 million dollars each, much of the savings is because Space X can reuse the first stage. \n\n\nTherefore if we can determine if the first stage will land, we can determine the cost of a launch. \n\nThis information can be used if an alternate company wants to bid against SpaceX for a rocket launch.\n\nThis dataset includes a record for each payload carried during a SpaceX mission into outer space.\n"
        },
        {
            "metadata": {},
            "cell_type": "markdown",
            "source": "### Download the datasets\n\nThis assignment requires you to load the spacex dataset.\n\nIn many cases the dataset to be analyzed is available as a .CSV (comma separated values) file, perhaps on the internet. Click on the link below to download and save the dataset (.CSV file):\n\n <a href=\"https://cf-courses-data.s3.us.cloud-object-storage.appdomain.cloud/IBM-DS0321EN-SkillsNetwork/labs/module_2/data/Spacex.csv\" target=\"_blank\">Spacex DataSet</a>\n\n"
        },
        {
            "metadata": {},
            "cell_type": "markdown",
            "source": "### Store the dataset in database table\n\n **it is highly recommended to manually load the table using the database console LOAD tool in DB2**.\n\n<img src=\"https://cf-courses-data.s3.us.cloud-object-storage.appdomain.cloud/IBM-DS0321EN-SkillsNetwork/labs/module_2/images/spacexload.png\">\n\nNow open the Db2 console, open the LOAD tool, Select / Drag the .CSV file for the  dataset, Next create a New Table, and then follow the steps on-screen instructions to load the data. Name the new table as follows:\n\n **SPACEXDATASET**\n \n **Follow these steps while using old DB2 UI which is having Open Console Screen**\n\n**Note:While loading Spacex dataset, ensure that detect datatypes is disabled. Later click on the pencil icon(edit option).**\n\n1. Change the Date Format by manually typing DD-MM-YYYY and timestamp format as DD-MM-YYYY HH:MM:SS  \n\n\n2. Change the PAYLOAD_MASS__KG_  datatype  to INTEGER.\n\n<img src=\"https://cf-courses-data.s3.us.cloud-object-storage.appdomain.cloud/IBM-DS0321EN-SkillsNetwork/labs/module_2/images/spacexload2.png\">\n\n"
        },
        {
            "metadata": {},
            "cell_type": "markdown",
            "source": "**Changes to be considered when having DB2 instance with the new UI having Go to UI screen** \n\n* Refer to this insruction in this <a href=\"https://cf-courses-data.s3.us.cloud-object-storage.appdomain.cloud/IBMDeveloperSkillsNetwork-DB0201EN-SkillsNetwork/labs/Labs_Coursera_V5/labs/Lab%20-%20Sign%20up%20for%20IBM%20Cloud%20-%20Create%20Db2%20service%20instance%20-%20Get%20started%20with%20the%20Db2%20console/instructional-labs.md.html\">link</a> for viewing  the new  Go to UI screen. \n\n\n* Later click on **Data link(below SQL)**  in the Go to UI screen  and click on **Load Data** tab.  \n\n\n\n* Later browse for the downloaded spacex file.\n\n\n\n<img src=\"https://cf-courses-data.s3.us.cloud-object-storage.appdomain.cloud/IBM-DS0321EN-SkillsNetwork/labs/module_2/images/browsefile.png\" width=\"800\">\n\n\n* Once done select the schema andload the file.  \n\n\n <img src=\"https://cf-courses-data.s3.us.cloud-object-storage.appdomain.cloud/IBM-DS0321EN-SkillsNetwork/labs/module_2/images/spacexload3.png\" width=\"800\">\n \n"
        },
        {
            "metadata": {},
            "cell_type": "code",
            "source": "!pip install sqlalchemy==1.3.9\n!pip install ibm_db\n!pip install ibm_db_sa\n!pip install ipython-sql",
            "execution_count": 19,
            "outputs": [
                {
                    "output_type": "stream",
                    "text": "Collecting sqlalchemy==1.3.9\n  Using cached SQLAlchemy-1.3.9-cp310-cp310-linux_x86_64.whl\nInstalling collected packages: sqlalchemy\n  Attempting uninstall: sqlalchemy\n    Found existing installation: SQLAlchemy 2.0.16\n    Uninstalling SQLAlchemy-2.0.16:\n      Successfully uninstalled SQLAlchemy-2.0.16\n\u001b[31mERROR: pip's dependency resolver does not currently take into account all the packages that are installed. This behaviour is the source of the following dependency conflicts.\nipython-sql 0.5.0 requires sqlalchemy>=2.0, but you have sqlalchemy 1.3.9 which is incompatible.\u001b[0m\u001b[31m\n\u001b[0mSuccessfully installed sqlalchemy-1.3.9\nRequirement already satisfied: ibm_db in /opt/conda/envs/Python-3.10/lib/python3.10/site-packages (3.1.3)\nRequirement already satisfied: ibm_db_sa in /opt/conda/envs/Python-3.10/lib/python3.10/site-packages (0.3.8)\nRequirement already satisfied: sqlalchemy>=0.7.3 in /opt/conda/envs/Python-3.10/lib/python3.10/site-packages (from ibm_db_sa) (1.3.9)\nRequirement already satisfied: ibm-db>=2.0.0 in /opt/conda/envs/Python-3.10/lib/python3.10/site-packages (from ibm_db_sa) (3.1.3)\nRequirement already satisfied: ipython-sql in /opt/conda/envs/Python-3.10/lib/python3.10/site-packages (0.5.0)\nCollecting sqlalchemy>=2.0\n  Using cached SQLAlchemy-2.0.16-cp310-cp310-manylinux_2_17_x86_64.manylinux2014_x86_64.whl (2.7 MB)\nRequirement already satisfied: prettytable in /opt/conda/envs/Python-3.10/lib/python3.10/site-packages (from ipython-sql) (3.8.0)\nRequirement already satisfied: ipython in /opt/conda/envs/Python-3.10/lib/python3.10/site-packages (from ipython-sql) (8.4.0)\nRequirement already satisfied: ipython-genutils in /opt/conda/envs/Python-3.10/lib/python3.10/site-packages (from ipython-sql) (0.2.0)\nRequirement already satisfied: sqlparse in /opt/conda/envs/Python-3.10/lib/python3.10/site-packages (from ipython-sql) (0.4.4)\nRequirement already satisfied: six in /opt/conda/envs/Python-3.10/lib/python3.10/site-packages (from ipython-sql) (1.16.0)\nRequirement already satisfied: typing-extensions>=4.2.0 in /opt/conda/envs/Python-3.10/lib/python3.10/site-packages (from sqlalchemy>=2.0->ipython-sql) (4.3.0)\nRequirement already satisfied: greenlet!=0.4.17 in /opt/conda/envs/Python-3.10/lib/python3.10/site-packages (from sqlalchemy>=2.0->ipython-sql) (1.1.1)\nRequirement already satisfied: decorator in /opt/conda/envs/Python-3.10/lib/python3.10/site-packages (from ipython->ipython-sql) (5.1.1)\nRequirement already satisfied: pexpect>4.3 in /opt/conda/envs/Python-3.10/lib/python3.10/site-packages (from ipython->ipython-sql) (4.8.0)\nRequirement already satisfied: jedi>=0.16 in /opt/conda/envs/Python-3.10/lib/python3.10/site-packages (from ipython->ipython-sql) (0.18.1)\nRequirement already satisfied: matplotlib-inline in /opt/conda/envs/Python-3.10/lib/python3.10/site-packages (from ipython->ipython-sql) (0.1.6)\nRequirement already satisfied: prompt-toolkit!=3.0.0,!=3.0.1,<3.1.0,>=2.0.0 in /opt/conda/envs/Python-3.10/lib/python3.10/site-packages (from ipython->ipython-sql) (3.0.20)\nRequirement already satisfied: stack-data in /opt/conda/envs/Python-3.10/lib/python3.10/site-packages (from ipython->ipython-sql) (0.2.0)\nRequirement already satisfied: pickleshare in /opt/conda/envs/Python-3.10/lib/python3.10/site-packages (from ipython->ipython-sql) (0.7.5)\nRequirement already satisfied: backcall in /opt/conda/envs/Python-3.10/lib/python3.10/site-packages (from ipython->ipython-sql) (0.2.0)\nRequirement already satisfied: setuptools>=18.5 in /opt/conda/envs/Python-3.10/lib/python3.10/site-packages (from ipython->ipython-sql) (65.6.3)\nRequirement already satisfied: pygments>=2.4.0 in /opt/conda/envs/Python-3.10/lib/python3.10/site-packages (from ipython->ipython-sql) (2.11.2)\nRequirement already satisfied: traitlets>=5 in /opt/conda/envs/Python-3.10/lib/python3.10/site-packages (from ipython->ipython-sql) (5.1.1)\nRequirement already satisfied: wcwidth in /opt/conda/envs/Python-3.10/lib/python3.10/site-packages (from prettytable->ipython-sql) (0.2.5)\nRequirement already satisfied: parso<0.9.0,>=0.8.0 in /opt/conda/envs/Python-3.10/lib/python3.10/site-packages (from jedi>=0.16->ipython->ipython-sql) (0.8.3)\nRequirement already satisfied: ptyprocess>=0.5 in /opt/conda/envs/Python-3.10/lib/python3.10/site-packages (from pexpect>4.3->ipython->ipython-sql) (0.7.0)\nRequirement already satisfied: pure-eval in /opt/conda/envs/Python-3.10/lib/python3.10/site-packages (from stack-data->ipython->ipython-sql) (0.2.2)\nRequirement already satisfied: executing in /opt/conda/envs/Python-3.10/lib/python3.10/site-packages (from stack-data->ipython->ipython-sql) (0.8.3)\nRequirement already satisfied: asttokens in /opt/conda/envs/Python-3.10/lib/python3.10/site-packages (from stack-data->ipython->ipython-sql) (2.0.5)\nInstalling collected packages: sqlalchemy\n  Attempting uninstall: sqlalchemy\n    Found existing installation: SQLAlchemy 1.3.9\n    Uninstalling SQLAlchemy-1.3.9:\n      Successfully uninstalled SQLAlchemy-1.3.9\nSuccessfully installed sqlalchemy-2.0.16\n",
                    "name": "stdout"
                }
            ]
        },
        {
            "metadata": {},
            "cell_type": "markdown",
            "source": "### Connect to the database\n\nLet us first load the SQL extension and establish a connection with the database\n"
        },
        {
            "metadata": {},
            "cell_type": "code",
            "source": "%load_ext sql",
            "execution_count": 20,
            "outputs": [
                {
                    "output_type": "stream",
                    "text": "The sql extension is already loaded. To reload it, use:\n  %reload_ext sql\n",
                    "name": "stdout"
                }
            ]
        },
        {
            "metadata": {},
            "cell_type": "code",
            "source": "import csv, sqlite3\n\ncon = sqlite3.connect(\"my_data1.db\")\ncur = con.cursor()",
            "execution_count": 21,
            "outputs": []
        },
        {
            "metadata": {},
            "cell_type": "code",
            "source": "!pip install -q pandas==1.1.5",
            "execution_count": 22,
            "outputs": []
        },
        {
            "metadata": {},
            "cell_type": "code",
            "source": "%sql sqlite:///my_data1.db",
            "execution_count": 23,
            "outputs": []
        },
        {
            "metadata": {},
            "cell_type": "code",
            "source": "import pandas as pd\ndf = pd.read_csv(\"https://cf-courses-data.s3.us.cloud-object-storage.appdomain.cloud/IBM-DS0321EN-SkillsNetwork/labs/module_2/data/Spacex.csv\")\ndf.to_sql(\"SPACEXTBL\", con, if_exists='replace', index=False,method=\"multi\")",
            "execution_count": 24,
            "outputs": [
                {
                    "output_type": "execute_result",
                    "execution_count": 24,
                    "data": {
                        "text/plain": "999"
                    },
                    "metadata": {}
                }
            ]
        },
        {
            "metadata": {},
            "cell_type": "markdown",
            "source": "## Tasks\n\nNow write and execute SQL queries to solve the assignment tasks.\n\n**Note: If the column names are in mixed case enclose it in double quotes\n   For Example \"Landing_Outcome\"**\n\n### Task 1\n\n\n\n\n##### Display the names of the unique launch sites  in the space mission\n"
        },
        {
            "metadata": {},
            "cell_type": "code",
            "source": "%sql SELECT DISTINCT(Launch_Site) FROM SPACEXTBL;",
            "execution_count": 25,
            "outputs": [
                {
                    "output_type": "stream",
                    "text": " * sqlite:///my_data1.db\nDone.\n",
                    "name": "stdout"
                },
                {
                    "output_type": "execute_result",
                    "execution_count": 25,
                    "data": {
                        "text/plain": "[('CCAFS LC-40',),\n ('VAFB SLC-4E',),\n ('KSC LC-39A',),\n ('CCAFS SLC-40',),\n (None,)]",
                        "text/html": "<table>\n    <thead>\n        <tr>\n            <th>Launch_Site</th>\n        </tr>\n    </thead>\n    <tbody>\n        <tr>\n            <td>CCAFS LC-40</td>\n        </tr>\n        <tr>\n            <td>VAFB SLC-4E</td>\n        </tr>\n        <tr>\n            <td>KSC LC-39A</td>\n        </tr>\n        <tr>\n            <td>CCAFS SLC-40</td>\n        </tr>\n        <tr>\n            <td>None</td>\n        </tr>\n    </tbody>\n</table>"
                    },
                    "metadata": {}
                }
            ]
        },
        {
            "metadata": {},
            "cell_type": "markdown",
            "source": "\n### Task 2\n\n\n#####  Display 5 records where launch sites begin with the string 'KSC' \n"
        },
        {
            "metadata": {},
            "cell_type": "code",
            "source": "%sql SELECT * FROM SPACEXTBL WHERE Launch_Site LIKE 'KSC%' LIMIT 5;",
            "execution_count": 26,
            "outputs": [
                {
                    "output_type": "stream",
                    "text": " * sqlite:///my_data1.db\nDone.\n",
                    "name": "stdout"
                },
                {
                    "output_type": "execute_result",
                    "execution_count": 26,
                    "data": {
                        "text/plain": "[('19/02/2017', '14:39:00', 'F9 FT B1031.1', 'KSC LC-39A', 'SpaceX CRS-10', 2490.0, 'LEO (ISS)', 'NASA (CRS)', 'Success', 'Success (ground pad)'),\n ('16/03/2017', '6:00:00', 'F9 FT B1030', 'KSC LC-39A', 'EchoStar 23', 5600.0, 'GTO', 'EchoStar', 'Success', 'No attempt'),\n ('30/03/2017', '22:27:00', 'F9 FT  B1021.2', 'KSC LC-39A', 'SES-10', 5300.0, 'GTO', 'SES', 'Success', 'Success (drone ship)'),\n ('05/01/2017', '11:15:00', 'F9 FT B1032.1', 'KSC LC-39A', 'NROL-76', 5300.0, 'LEO', 'NRO', 'Success', 'Success (ground pad)'),\n ('15/05/2017', '23:21:00', 'F9 FT B1034', 'KSC LC-39A', 'Inmarsat-5 F4', 6070.0, 'GTO', 'Inmarsat', 'Success', 'No attempt')]",
                        "text/html": "<table>\n    <thead>\n        <tr>\n            <th>Date</th>\n            <th>Time (UTC)</th>\n            <th>Booster_Version</th>\n            <th>Launch_Site</th>\n            <th>Payload</th>\n            <th>PAYLOAD_MASS__KG_</th>\n            <th>Orbit</th>\n            <th>Customer</th>\n            <th>Mission_Outcome</th>\n            <th>Landing_Outcome</th>\n        </tr>\n    </thead>\n    <tbody>\n        <tr>\n            <td>19/02/2017</td>\n            <td>14:39:00</td>\n            <td>F9 FT B1031.1</td>\n            <td>KSC LC-39A</td>\n            <td>SpaceX CRS-10</td>\n            <td>2490.0</td>\n            <td>LEO (ISS)</td>\n            <td>NASA (CRS)</td>\n            <td>Success</td>\n            <td>Success (ground pad)</td>\n        </tr>\n        <tr>\n            <td>16/03/2017</td>\n            <td>6:00:00</td>\n            <td>F9 FT B1030</td>\n            <td>KSC LC-39A</td>\n            <td>EchoStar 23</td>\n            <td>5600.0</td>\n            <td>GTO</td>\n            <td>EchoStar</td>\n            <td>Success</td>\n            <td>No attempt</td>\n        </tr>\n        <tr>\n            <td>30/03/2017</td>\n            <td>22:27:00</td>\n            <td>F9 FT  B1021.2</td>\n            <td>KSC LC-39A</td>\n            <td>SES-10</td>\n            <td>5300.0</td>\n            <td>GTO</td>\n            <td>SES</td>\n            <td>Success</td>\n            <td>Success (drone ship)</td>\n        </tr>\n        <tr>\n            <td>05/01/2017</td>\n            <td>11:15:00</td>\n            <td>F9 FT B1032.1</td>\n            <td>KSC LC-39A</td>\n            <td>NROL-76</td>\n            <td>5300.0</td>\n            <td>LEO</td>\n            <td>NRO</td>\n            <td>Success</td>\n            <td>Success (ground pad)</td>\n        </tr>\n        <tr>\n            <td>15/05/2017</td>\n            <td>23:21:00</td>\n            <td>F9 FT B1034</td>\n            <td>KSC LC-39A</td>\n            <td>Inmarsat-5 F4</td>\n            <td>6070.0</td>\n            <td>GTO</td>\n            <td>Inmarsat</td>\n            <td>Success</td>\n            <td>No attempt</td>\n        </tr>\n    </tbody>\n</table>"
                    },
                    "metadata": {}
                }
            ]
        },
        {
            "metadata": {},
            "cell_type": "markdown",
            "source": "### Task 3\n\n\n\n\n##### Display the total payload mass carried by boosters launched by NASA (CRS)\n"
        },
        {
            "metadata": {},
            "cell_type": "code",
            "source": "%sql SELECT sum(PAYLOAD_MASS__KG_) FROM SPACEXTBL WHERE Customer = \"NASA (CRS)\";",
            "execution_count": 27,
            "outputs": [
                {
                    "output_type": "stream",
                    "text": " * sqlite:///my_data1.db\nDone.\n",
                    "name": "stdout"
                },
                {
                    "output_type": "execute_result",
                    "execution_count": 27,
                    "data": {
                        "text/plain": "[(45596.0,)]",
                        "text/html": "<table>\n    <thead>\n        <tr>\n            <th>sum(PAYLOAD_MASS__KG_)</th>\n        </tr>\n    </thead>\n    <tbody>\n        <tr>\n            <td>45596.0</td>\n        </tr>\n    </tbody>\n</table>"
                    },
                    "metadata": {}
                }
            ]
        },
        {
            "metadata": {},
            "cell_type": "markdown",
            "source": "### Task 4\n\n\n\n\n##### Display average payload mass carried by booster version F9 v1.1\n"
        },
        {
            "metadata": {},
            "cell_type": "code",
            "source": "%sql SELECT avg(PAYLOAD_MASS__KG_) FROM SPACEXTBL WHERE Booster_Version = \"F9 v1.1\";",
            "execution_count": 28,
            "outputs": [
                {
                    "output_type": "stream",
                    "text": " * sqlite:///my_data1.db\nDone.\n",
                    "name": "stdout"
                },
                {
                    "output_type": "execute_result",
                    "execution_count": 28,
                    "data": {
                        "text/plain": "[(2928.4,)]",
                        "text/html": "<table>\n    <thead>\n        <tr>\n            <th>avg(PAYLOAD_MASS__KG_)</th>\n        </tr>\n    </thead>\n    <tbody>\n        <tr>\n            <td>2928.4</td>\n        </tr>\n    </tbody>\n</table>"
                    },
                    "metadata": {}
                }
            ]
        },
        {
            "metadata": {},
            "cell_type": "markdown",
            "source": "### Task 5\n\n##### List the date where the succesful landing outcome in drone ship was acheived.\n\n\n_Hint:Use min function_ \n"
        },
        {
            "metadata": {},
            "cell_type": "code",
            "source": "%sql select min(Date) from SPACEXTBL where Landing_Outcome = \"Success (drone ship)\"",
            "execution_count": 29,
            "outputs": [
                {
                    "output_type": "stream",
                    "text": " * sqlite:///my_data1.db\nDone.\n",
                    "name": "stdout"
                },
                {
                    "output_type": "execute_result",
                    "execution_count": 29,
                    "data": {
                        "text/plain": "[('04/08/2016',)]",
                        "text/html": "<table>\n    <thead>\n        <tr>\n            <th>min(Date)</th>\n        </tr>\n    </thead>\n    <tbody>\n        <tr>\n            <td>04/08/2016</td>\n        </tr>\n    </tbody>\n</table>"
                    },
                    "metadata": {}
                }
            ]
        },
        {
            "metadata": {},
            "cell_type": "markdown",
            "source": "### Task 6\n\n##### List the names of the boosters which have success in ground pad  and have payload mass greater than 4000 but less than 6000\n"
        },
        {
            "metadata": {},
            "cell_type": "code",
            "source": "%sql select * from SPACEXTBL where Landing_Outcome = \"Success (ground pad)\" and PAYLOAD_MASS__KG_ between 4000 and 6000",
            "execution_count": 30,
            "outputs": [
                {
                    "output_type": "stream",
                    "text": " * sqlite:///my_data1.db\nDone.\n",
                    "name": "stdout"
                },
                {
                    "output_type": "execute_result",
                    "execution_count": 30,
                    "data": {
                        "text/plain": "[('05/01/2017', '11:15:00', 'F9 FT B1032.1', 'KSC LC-39A', 'NROL-76', 5300.0, 'LEO', 'NRO', 'Success', 'Success (ground pad)'),\n ('09/07/2017', '14:00:00', 'F9 B4 B1040.1', 'KSC LC-39A', 'Boeing X-37B OTV-5', 4990.0, 'LEO', 'U.S. Air Force', 'Success', 'Success (ground pad)'),\n ('01/08/2018', '1:00:00', 'F9 B4 B1043.1', 'CCAFS SLC-40', 'Zuma', 5000.0, 'LEO', 'Northrop Grumman', 'Success (payload status unclear)', 'Success (ground pad)')]",
                        "text/html": "<table>\n    <thead>\n        <tr>\n            <th>Date</th>\n            <th>Time (UTC)</th>\n            <th>Booster_Version</th>\n            <th>Launch_Site</th>\n            <th>Payload</th>\n            <th>PAYLOAD_MASS__KG_</th>\n            <th>Orbit</th>\n            <th>Customer</th>\n            <th>Mission_Outcome</th>\n            <th>Landing_Outcome</th>\n        </tr>\n    </thead>\n    <tbody>\n        <tr>\n            <td>05/01/2017</td>\n            <td>11:15:00</td>\n            <td>F9 FT B1032.1</td>\n            <td>KSC LC-39A</td>\n            <td>NROL-76</td>\n            <td>5300.0</td>\n            <td>LEO</td>\n            <td>NRO</td>\n            <td>Success</td>\n            <td>Success (ground pad)</td>\n        </tr>\n        <tr>\n            <td>09/07/2017</td>\n            <td>14:00:00</td>\n            <td>F9 B4 B1040.1</td>\n            <td>KSC LC-39A</td>\n            <td>Boeing X-37B OTV-5</td>\n            <td>4990.0</td>\n            <td>LEO</td>\n            <td>U.S. Air Force</td>\n            <td>Success</td>\n            <td>Success (ground pad)</td>\n        </tr>\n        <tr>\n            <td>01/08/2018</td>\n            <td>1:00:00</td>\n            <td>F9 B4 B1043.1</td>\n            <td>CCAFS SLC-40</td>\n            <td>Zuma</td>\n            <td>5000.0</td>\n            <td>LEO</td>\n            <td>Northrop Grumman</td>\n            <td>Success (payload status unclear)</td>\n            <td>Success (ground pad)</td>\n        </tr>\n    </tbody>\n</table>"
                    },
                    "metadata": {}
                }
            ]
        },
        {
            "metadata": {},
            "cell_type": "markdown",
            "source": "### Task 7\n\n\n\n\n##### List the total number of successful and failure mission outcomes\n"
        },
        {
            "metadata": {},
            "cell_type": "code",
            "source": "%sql select mission_outcome, count(mission_outcome) from SPACEXTBL GROUP BY MISSION_OUTCOME;",
            "execution_count": 57,
            "outputs": [
                {
                    "output_type": "stream",
                    "text": " * sqlite:///my_data1.db\nDone.\n",
                    "name": "stdout"
                },
                {
                    "output_type": "execute_result",
                    "execution_count": 57,
                    "data": {
                        "text/plain": "[(None, 0),\n ('Failure (in flight)', 1),\n ('Success', 98),\n ('Success ', 1),\n ('Success (payload status unclear)', 1)]",
                        "text/html": "<table>\n    <thead>\n        <tr>\n            <th>Mission_Outcome</th>\n            <th>count(mission_outcome)</th>\n        </tr>\n    </thead>\n    <tbody>\n        <tr>\n            <td>None</td>\n            <td>0</td>\n        </tr>\n        <tr>\n            <td>Failure (in flight)</td>\n            <td>1</td>\n        </tr>\n        <tr>\n            <td>Success</td>\n            <td>98</td>\n        </tr>\n        <tr>\n            <td>Success </td>\n            <td>1</td>\n        </tr>\n        <tr>\n            <td>Success (payload status unclear)</td>\n            <td>1</td>\n        </tr>\n    </tbody>\n</table>"
                    },
                    "metadata": {}
                }
            ]
        },
        {
            "metadata": {},
            "cell_type": "code",
            "source": "%sql select mission_outcome, count(mission_outcome) from SPACEXTBL where mission_outcome like '%success%'",
            "execution_count": 60,
            "outputs": [
                {
                    "output_type": "stream",
                    "text": " * sqlite:///my_data1.db\nDone.\n",
                    "name": "stdout"
                },
                {
                    "output_type": "execute_result",
                    "execution_count": 60,
                    "data": {
                        "text/plain": "[('Success', 100)]",
                        "text/html": "<table>\n    <thead>\n        <tr>\n            <th>Mission_Outcome</th>\n            <th>count(mission_outcome)</th>\n        </tr>\n    </thead>\n    <tbody>\n        <tr>\n            <td>Success</td>\n            <td>100</td>\n        </tr>\n    </tbody>\n</table>"
                    },
                    "metadata": {}
                }
            ]
        },
        {
            "metadata": {},
            "cell_type": "markdown",
            "source": "### Task 8\n\n\n\n##### List the   names of the booster_versions which have carried the maximum payload mass. Use a subquery\n"
        },
        {
            "metadata": {},
            "cell_type": "code",
            "source": "%sql select Booster_Version from SPACEXTBL where PAYLOAD_MASS__KG_ = (select max(PAYLOAD_MASS__KG_) from SPACEXTBL);",
            "execution_count": 61,
            "outputs": [
                {
                    "output_type": "stream",
                    "text": " * sqlite:///my_data1.db\nDone.\n",
                    "name": "stdout"
                },
                {
                    "output_type": "execute_result",
                    "execution_count": 61,
                    "data": {
                        "text/plain": "[('F9 B5 B1048.4',),\n ('F9 B5 B1049.4',),\n ('F9 B5 B1051.3',),\n ('F9 B5 B1056.4',),\n ('F9 B5 B1048.5',),\n ('F9 B5 B1051.4',),\n ('F9 B5 B1049.5',),\n ('F9 B5 B1060.2 ',),\n ('F9 B5 B1058.3 ',),\n ('F9 B5 B1051.6',),\n ('F9 B5 B1060.3',),\n ('F9 B5 B1049.7 ',)]",
                        "text/html": "<table>\n    <thead>\n        <tr>\n            <th>Booster_Version</th>\n        </tr>\n    </thead>\n    <tbody>\n        <tr>\n            <td>F9 B5 B1048.4</td>\n        </tr>\n        <tr>\n            <td>F9 B5 B1049.4</td>\n        </tr>\n        <tr>\n            <td>F9 B5 B1051.3</td>\n        </tr>\n        <tr>\n            <td>F9 B5 B1056.4</td>\n        </tr>\n        <tr>\n            <td>F9 B5 B1048.5</td>\n        </tr>\n        <tr>\n            <td>F9 B5 B1051.4</td>\n        </tr>\n        <tr>\n            <td>F9 B5 B1049.5</td>\n        </tr>\n        <tr>\n            <td>F9 B5 B1060.2 </td>\n        </tr>\n        <tr>\n            <td>F9 B5 B1058.3 </td>\n        </tr>\n        <tr>\n            <td>F9 B5 B1051.6</td>\n        </tr>\n        <tr>\n            <td>F9 B5 B1060.3</td>\n        </tr>\n        <tr>\n            <td>F9 B5 B1049.7 </td>\n        </tr>\n    </tbody>\n</table>"
                    },
                    "metadata": {}
                }
            ]
        },
        {
            "metadata": {},
            "cell_type": "markdown",
            "source": "### Task 9\n\n\n##### List the records which will display the month names, succesful landing_outcomes in ground pad ,booster versions, launch_site for the months in year 2017\n**Note: SQLLite does not support monthnames. So you need to use  substr(Date, 4, 2) as month to get the months and substr(Date,7,4)='2017' for year.**\n"
        },
        {
            "metadata": {},
            "cell_type": "code",
            "source": "%sql select Booster_Version, Landing_Outcome, substr(Date,4,2), \"Date\", Launch_site from SPACEXTBL where substr(Date,7,4)='2017' and Landing_Outcome = \"Success (ground pad)\"",
            "execution_count": 66,
            "outputs": [
                {
                    "output_type": "stream",
                    "text": " * sqlite:///my_data1.db\nDone.\n",
                    "name": "stdout"
                },
                {
                    "output_type": "execute_result",
                    "execution_count": 66,
                    "data": {
                        "text/plain": "[('F9 FT B1031.1', 'Success (ground pad)', '02', '19/02/2017', 'KSC LC-39A'),\n ('F9 FT B1032.1', 'Success (ground pad)', '01', '05/01/2017', 'KSC LC-39A'),\n ('F9 FT B1035.1', 'Success (ground pad)', '03', '06/03/2017', 'KSC LC-39A'),\n ('F9 B4 B1039.1', 'Success (ground pad)', '08', '14/08/2017', 'KSC LC-39A'),\n ('F9 B4 B1040.1', 'Success (ground pad)', '07', '09/07/2017', 'KSC LC-39A'),\n ('F9 FT  B1035.2', 'Success (ground pad)', '12', '15/12/2017', 'CCAFS SLC-40')]",
                        "text/html": "<table>\n    <thead>\n        <tr>\n            <th>Booster_Version</th>\n            <th>Landing_Outcome</th>\n            <th>substr(Date,4,2)</th>\n            <th>Date</th>\n            <th>Launch_Site</th>\n        </tr>\n    </thead>\n    <tbody>\n        <tr>\n            <td>F9 FT B1031.1</td>\n            <td>Success (ground pad)</td>\n            <td>02</td>\n            <td>19/02/2017</td>\n            <td>KSC LC-39A</td>\n        </tr>\n        <tr>\n            <td>F9 FT B1032.1</td>\n            <td>Success (ground pad)</td>\n            <td>01</td>\n            <td>05/01/2017</td>\n            <td>KSC LC-39A</td>\n        </tr>\n        <tr>\n            <td>F9 FT B1035.1</td>\n            <td>Success (ground pad)</td>\n            <td>03</td>\n            <td>06/03/2017</td>\n            <td>KSC LC-39A</td>\n        </tr>\n        <tr>\n            <td>F9 B4 B1039.1</td>\n            <td>Success (ground pad)</td>\n            <td>08</td>\n            <td>14/08/2017</td>\n            <td>KSC LC-39A</td>\n        </tr>\n        <tr>\n            <td>F9 B4 B1040.1</td>\n            <td>Success (ground pad)</td>\n            <td>07</td>\n            <td>09/07/2017</td>\n            <td>KSC LC-39A</td>\n        </tr>\n        <tr>\n            <td>F9 FT  B1035.2</td>\n            <td>Success (ground pad)</td>\n            <td>12</td>\n            <td>15/12/2017</td>\n            <td>CCAFS SLC-40</td>\n        </tr>\n    </tbody>\n</table>"
                    },
                    "metadata": {}
                }
            ]
        },
        {
            "metadata": {},
            "cell_type": "markdown",
            "source": "### Task 10\n\n\n\n\n##### Rank the  count of  successful landing_outcomes between the date  04-06-2010 and 20-03-2017 in descending order.\n"
        },
        {
            "metadata": {},
            "cell_type": "code",
            "source": "%sql select * from SPACEXTBL where Landing_Outcome Like \"%Success%\" and substr(Date,7,4) between \"2010\" and \"2017\" order by substr(Date,7,4) desc, substr(Date,4,2) desc, substr(Date,2,0) desc",
            "execution_count": 74,
            "outputs": [
                {
                    "output_type": "stream",
                    "text": " * sqlite:///my_data1.db\nDone.\n",
                    "name": "stdout"
                },
                {
                    "output_type": "execute_result",
                    "execution_count": 74,
                    "data": {
                        "text/plain": "[('15/12/2017', '15:36:00', 'F9 FT  B1035.2', 'CCAFS SLC-40', 'SpaceX CRS-13', 2205.0, 'LEO (ISS)', 'NASA (CRS)', 'Success', 'Success (ground pad)'),\n ('10/11/2017', '22:53:00', 'F9 FT  B1031.2', 'KSC LC-39A', 'SES-11 / EchoStar 105', 5200.0, 'GTO', 'SES EchoStar', 'Success', 'Success (drone ship)'),\n ('30/10/2017', '19:34:00', 'F9 B4 B1042.1', 'KSC LC-39A', 'Koreasat 5A', 3500.0, 'GTO', 'KT Corporation', 'Success', 'Success (drone ship)'),\n ('10/09/2017', '12:37:00', 'F9 B4 B1041.1', 'VAFB SLC-4E', 'Iridium NEXT 3', 9600.0, 'Polar LEO', 'Iridium Communications', 'Success', 'Success (drone ship)'),\n ('14/08/2017', '16:31:00', 'F9 B4 B1039.1', 'KSC LC-39A', 'SpaceX CRS-12', 3310.0, 'LEO (ISS)', 'NASA (CRS)', 'Success', 'Success (ground pad)'),\n ('24/08/2017', '18:51:00', 'F9 FT B1038.1', 'VAFB SLC-4E', 'Formosat-5', 475.0, 'SSO', 'NSPO', 'Success', 'Success (drone ship)'),\n ('09/07/2017', '14:00:00', 'F9 B4 B1040.1', 'KSC LC-39A', 'Boeing X-37B OTV-5', 4990.0, 'LEO', 'U.S. Air Force', 'Success', 'Success (ground pad)'),\n ('23/06/2017', '19:10:00', 'F9 FT  B1029.2', 'KSC LC-39A', 'BulgariaSat-1', 3669.0, 'GTO', 'Bulsatcom', 'Success', 'Success (drone ship)'),\n ('25/06/2017', '20:25:00', 'F9 FT B1036.1', 'VAFB SLC-4E', 'Iridium NEXT 2', 9600.0, 'LEO', 'Iridium Communications', 'Success', 'Success (drone ship)'),\n ('30/03/2017', '22:27:00', 'F9 FT  B1021.2', 'KSC LC-39A', 'SES-10', 5300.0, 'GTO', 'SES', 'Success', 'Success (drone ship)'),\n ('06/03/2017', '21:07:00', 'F9 FT B1035.1', 'KSC LC-39A', 'SpaceX CRS-11', 2708.0, 'LEO (ISS)', 'NASA (CRS)', 'Success', 'Success (ground pad)'),\n ('19/02/2017', '14:39:00', 'F9 FT B1031.1', 'KSC LC-39A', 'SpaceX CRS-10', 2490.0, 'LEO (ISS)', 'NASA (CRS)', 'Success', 'Success (ground pad)'),\n ('14/01/2017', '17:54:00', 'F9 FT B1029.1', 'VAFB SLC-4E', 'Iridium NEXT 1', 9600.0, 'Polar LEO', 'Iridium Communications', 'Success', 'Success (drone ship)'),\n ('05/01/2017', '11:15:00', 'F9 FT B1032.1', 'KSC LC-39A', 'NROL-76', 5300.0, 'LEO', 'NRO', 'Success', 'Success (ground pad)'),\n ('04/08/2016', '20:43:00', 'F9 FT B1021.1', 'CCAFS LC-40', 'SpaceX CRS-8', 3136.0, 'LEO (ISS)', 'NASA (CRS)', 'Success', 'Success (drone ship)'),\n ('14/08/2016', '5:26:00', 'F9 FT B1026', 'CCAFS LC-40', 'JCSAT-16', 4600.0, 'GTO', 'SKY Perfect JSAT Group', 'Success', 'Success (drone ship)'),\n ('18/07/2016', '4:45:00', 'F9 FT B1025.1', 'CCAFS LC-40', 'SpaceX CRS-9', 2257.0, 'LEO (ISS)', 'NASA (CRS)', 'Success', 'Success (ground pad)'),\n ('05/06/2016', '5:21:00', 'F9 FT B1022', 'CCAFS LC-40', 'JCSAT-14', 4696.0, 'GTO', 'SKY Perfect JSAT Group', 'Success', 'Success (drone ship)'),\n ('27/05/2016', '21:39:00', 'F9 FT B1023.1', 'CCAFS LC-40', 'Thaicom 8', 3100.0, 'GTO', 'Thaicom', 'Success', 'Success (drone ship)'),\n ('22/12/2015', '1:29:00', 'F9 FT B1019', 'CCAFS LC-40', 'OG2 Mission 2  11 Orbcomm-OG2 satellites', 2034.0, 'LEO', 'Orbcomm', 'Success', 'Success (ground pad)')]",
                        "text/html": "<table>\n    <thead>\n        <tr>\n            <th>Date</th>\n            <th>Time (UTC)</th>\n            <th>Booster_Version</th>\n            <th>Launch_Site</th>\n            <th>Payload</th>\n            <th>PAYLOAD_MASS__KG_</th>\n            <th>Orbit</th>\n            <th>Customer</th>\n            <th>Mission_Outcome</th>\n            <th>Landing_Outcome</th>\n        </tr>\n    </thead>\n    <tbody>\n        <tr>\n            <td>15/12/2017</td>\n            <td>15:36:00</td>\n            <td>F9 FT  B1035.2</td>\n            <td>CCAFS SLC-40</td>\n            <td>SpaceX CRS-13</td>\n            <td>2205.0</td>\n            <td>LEO (ISS)</td>\n            <td>NASA (CRS)</td>\n            <td>Success</td>\n            <td>Success (ground pad)</td>\n        </tr>\n        <tr>\n            <td>10/11/2017</td>\n            <td>22:53:00</td>\n            <td>F9 FT  B1031.2</td>\n            <td>KSC LC-39A</td>\n            <td>SES-11 / EchoStar 105</td>\n            <td>5200.0</td>\n            <td>GTO</td>\n            <td>SES EchoStar</td>\n            <td>Success</td>\n            <td>Success (drone ship)</td>\n        </tr>\n        <tr>\n            <td>30/10/2017</td>\n            <td>19:34:00</td>\n            <td>F9 B4 B1042.1</td>\n            <td>KSC LC-39A</td>\n            <td>Koreasat 5A</td>\n            <td>3500.0</td>\n            <td>GTO</td>\n            <td>KT Corporation</td>\n            <td>Success</td>\n            <td>Success (drone ship)</td>\n        </tr>\n        <tr>\n            <td>10/09/2017</td>\n            <td>12:37:00</td>\n            <td>F9 B4 B1041.1</td>\n            <td>VAFB SLC-4E</td>\n            <td>Iridium NEXT 3</td>\n            <td>9600.0</td>\n            <td>Polar LEO</td>\n            <td>Iridium Communications</td>\n            <td>Success</td>\n            <td>Success (drone ship)</td>\n        </tr>\n        <tr>\n            <td>14/08/2017</td>\n            <td>16:31:00</td>\n            <td>F9 B4 B1039.1</td>\n            <td>KSC LC-39A</td>\n            <td>SpaceX CRS-12</td>\n            <td>3310.0</td>\n            <td>LEO (ISS)</td>\n            <td>NASA (CRS)</td>\n            <td>Success</td>\n            <td>Success (ground pad)</td>\n        </tr>\n        <tr>\n            <td>24/08/2017</td>\n            <td>18:51:00</td>\n            <td>F9 FT B1038.1</td>\n            <td>VAFB SLC-4E</td>\n            <td>Formosat-5</td>\n            <td>475.0</td>\n            <td>SSO</td>\n            <td>NSPO</td>\n            <td>Success</td>\n            <td>Success (drone ship)</td>\n        </tr>\n        <tr>\n            <td>09/07/2017</td>\n            <td>14:00:00</td>\n            <td>F9 B4 B1040.1</td>\n            <td>KSC LC-39A</td>\n            <td>Boeing X-37B OTV-5</td>\n            <td>4990.0</td>\n            <td>LEO</td>\n            <td>U.S. Air Force</td>\n            <td>Success</td>\n            <td>Success (ground pad)</td>\n        </tr>\n        <tr>\n            <td>23/06/2017</td>\n            <td>19:10:00</td>\n            <td>F9 FT  B1029.2</td>\n            <td>KSC LC-39A</td>\n            <td>BulgariaSat-1</td>\n            <td>3669.0</td>\n            <td>GTO</td>\n            <td>Bulsatcom</td>\n            <td>Success</td>\n            <td>Success (drone ship)</td>\n        </tr>\n        <tr>\n            <td>25/06/2017</td>\n            <td>20:25:00</td>\n            <td>F9 FT B1036.1</td>\n            <td>VAFB SLC-4E</td>\n            <td>Iridium NEXT 2</td>\n            <td>9600.0</td>\n            <td>LEO</td>\n            <td>Iridium Communications</td>\n            <td>Success</td>\n            <td>Success (drone ship)</td>\n        </tr>\n        <tr>\n            <td>30/03/2017</td>\n            <td>22:27:00</td>\n            <td>F9 FT  B1021.2</td>\n            <td>KSC LC-39A</td>\n            <td>SES-10</td>\n            <td>5300.0</td>\n            <td>GTO</td>\n            <td>SES</td>\n            <td>Success</td>\n            <td>Success (drone ship)</td>\n        </tr>\n        <tr>\n            <td>06/03/2017</td>\n            <td>21:07:00</td>\n            <td>F9 FT B1035.1</td>\n            <td>KSC LC-39A</td>\n            <td>SpaceX CRS-11</td>\n            <td>2708.0</td>\n            <td>LEO (ISS)</td>\n            <td>NASA (CRS)</td>\n            <td>Success</td>\n            <td>Success (ground pad)</td>\n        </tr>\n        <tr>\n            <td>19/02/2017</td>\n            <td>14:39:00</td>\n            <td>F9 FT B1031.1</td>\n            <td>KSC LC-39A</td>\n            <td>SpaceX CRS-10</td>\n            <td>2490.0</td>\n            <td>LEO (ISS)</td>\n            <td>NASA (CRS)</td>\n            <td>Success</td>\n            <td>Success (ground pad)</td>\n        </tr>\n        <tr>\n            <td>14/01/2017</td>\n            <td>17:54:00</td>\n            <td>F9 FT B1029.1</td>\n            <td>VAFB SLC-4E</td>\n            <td>Iridium NEXT 1</td>\n            <td>9600.0</td>\n            <td>Polar LEO</td>\n            <td>Iridium Communications</td>\n            <td>Success</td>\n            <td>Success (drone ship)</td>\n        </tr>\n        <tr>\n            <td>05/01/2017</td>\n            <td>11:15:00</td>\n            <td>F9 FT B1032.1</td>\n            <td>KSC LC-39A</td>\n            <td>NROL-76</td>\n            <td>5300.0</td>\n            <td>LEO</td>\n            <td>NRO</td>\n            <td>Success</td>\n            <td>Success (ground pad)</td>\n        </tr>\n        <tr>\n            <td>04/08/2016</td>\n            <td>20:43:00</td>\n            <td>F9 FT B1021.1</td>\n            <td>CCAFS LC-40</td>\n            <td>SpaceX CRS-8</td>\n            <td>3136.0</td>\n            <td>LEO (ISS)</td>\n            <td>NASA (CRS)</td>\n            <td>Success</td>\n            <td>Success (drone ship)</td>\n        </tr>\n        <tr>\n            <td>14/08/2016</td>\n            <td>5:26:00</td>\n            <td>F9 FT B1026</td>\n            <td>CCAFS LC-40</td>\n            <td>JCSAT-16</td>\n            <td>4600.0</td>\n            <td>GTO</td>\n            <td>SKY Perfect JSAT Group</td>\n            <td>Success</td>\n            <td>Success (drone ship)</td>\n        </tr>\n        <tr>\n            <td>18/07/2016</td>\n            <td>4:45:00</td>\n            <td>F9 FT B1025.1</td>\n            <td>CCAFS LC-40</td>\n            <td>SpaceX CRS-9</td>\n            <td>2257.0</td>\n            <td>LEO (ISS)</td>\n            <td>NASA (CRS)</td>\n            <td>Success</td>\n            <td>Success (ground pad)</td>\n        </tr>\n        <tr>\n            <td>05/06/2016</td>\n            <td>5:21:00</td>\n            <td>F9 FT B1022</td>\n            <td>CCAFS LC-40</td>\n            <td>JCSAT-14</td>\n            <td>4696.0</td>\n            <td>GTO</td>\n            <td>SKY Perfect JSAT Group</td>\n            <td>Success</td>\n            <td>Success (drone ship)</td>\n        </tr>\n        <tr>\n            <td>27/05/2016</td>\n            <td>21:39:00</td>\n            <td>F9 FT B1023.1</td>\n            <td>CCAFS LC-40</td>\n            <td>Thaicom 8</td>\n            <td>3100.0</td>\n            <td>GTO</td>\n            <td>Thaicom</td>\n            <td>Success</td>\n            <td>Success (drone ship)</td>\n        </tr>\n        <tr>\n            <td>22/12/2015</td>\n            <td>1:29:00</td>\n            <td>F9 FT B1019</td>\n            <td>CCAFS LC-40</td>\n            <td>OG2 Mission 2  11 Orbcomm-OG2 satellites</td>\n            <td>2034.0</td>\n            <td>LEO</td>\n            <td>Orbcomm</td>\n            <td>Success</td>\n            <td>Success (ground pad)</td>\n        </tr>\n    </tbody>\n</table>"
                    },
                    "metadata": {}
                }
            ]
        },
        {
            "metadata": {},
            "cell_type": "markdown",
            "source": "### Reference Links\n\n* <a href =\"https://cf-courses-data.s3.us.cloud-object-storage.appdomain.cloud/IBMDeveloperSkillsNetwork-DB0201EN-SkillsNetwork/labs/Module%203/LAB-String_Patterns_Sorting_Grouping.md.html\">Hands-on Lab : String Patterns, Sorting and Grouping</a>  \n\n*  <a  href=\"https://cf-courses-data.s3.us.cloud-object-storage.appdomain.cloud/IBMDeveloperSkillsNetwork-DB0201EN-SkillsNetwork/labs/Labs_Coursera_V5/labs/Lab%20-%20Built-in%20functions%20/Hands-on_Lab__Built-in_Functions.md.html\">Hands-on Lab: Built-in functions</a>\n\n*  <a  href=\"https://cf-courses-data.s3.us.cloud-object-storage.appdomain.cloud/IBMDeveloperSkillsNetwork-DB0201EN-SkillsNetwork/labs/Labs_Coursera_V5/labs/Lab%20-%20Sub-queries%20and%20Nested%20SELECTs%20/instructional-labs.md.html\">Hands-on Lab : Sub-queries and Nested SELECT Statements</a>\n\n*   <a href=\"https://cf-courses-data.s3.us.cloud-object-storage.appdomain.cloud/IBMDeveloperSkillsNetwork-DB0201EN-SkillsNetwork/labs/Module%205/DB0201EN-Week3-1-3-SQLmagic.ipynb\">Hands-on Tutorial: Accessing Databases with SQL magic</a>\n\n*  <a href= \"https://cf-courses-data.s3.us.cloud-object-storage.appdomain.cloud/IBMDeveloperSkillsNetwork-DB0201EN-SkillsNetwork/labs/Module%205/DB0201EN-Week3-1-4-Analyzing.ipynb\">Hands-on Lab: Analyzing a real World Data Set</a>\n"
        },
        {
            "metadata": {},
            "cell_type": "markdown",
            "source": "## Author(s)\n\n<h4> Lakshmi Holla </h4>\n"
        },
        {
            "metadata": {},
            "cell_type": "markdown",
            "source": "## Other Contributors\n\n<h4> Rav Ahuja </h4>\n"
        },
        {
            "metadata": {},
            "cell_type": "markdown",
            "source": "## Change log\n| Date | Version | Changed by | Change Description |\n|------|--------|--------|---------|\n| 2021-07-09 | 0.2 |Lakshmi Holla | Changes made in magic sql|\n| 2021-05-20 | 0.1 |Lakshmi Holla | Created Initial Version |\n"
        },
        {
            "metadata": {},
            "cell_type": "markdown",
            "source": "## <h3 align=\"center\"> \u00a9 IBM Corporation 2021. All rights reserved. <h3/>\n"
        }
    ],
    "metadata": {
        "kernelspec": {
            "name": "python3",
            "display_name": "Python 3.10",
            "language": "python"
        },
        "language_info": {
            "name": "python",
            "version": "3.10.9",
            "mimetype": "text/x-python",
            "codemirror_mode": {
                "name": "ipython",
                "version": 3
            },
            "pygments_lexer": "ipython3",
            "nbconvert_exporter": "python",
            "file_extension": ".py"
        }
    },
    "nbformat": 4,
    "nbformat_minor": 4
}